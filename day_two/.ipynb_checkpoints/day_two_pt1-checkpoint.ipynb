{
 "cells": [
  {
   "cell_type": "code",
   "execution_count": 13,
   "metadata": {
    "collapsed": false
   },
   "outputs": [],
   "source": [
    "def celsius_fahrenheit(C):\n",
    "    #This function converts Celsius to Fahrenheit\n",
    "    # F = (C*(9./5))+32 = Fahrenheit NOTE: C is room temperature.\n",
    "    fahrenheit = (C*(9./5))+32\n",
    "    print(fahrenheit)\n",
    "    return fahrenheit"
   ]
  },
  {
   "cell_type": "code",
   "execution_count": 11,
   "metadata": {
    "collapsed": false
   },
   "outputs": [
    {
     "ename": "TypeError",
     "evalue": "celsius_fahrenheit() missing 1 required positional argument: 'C'",
     "output_type": "error",
     "traceback": [
      "\u001b[0;31m---------------------------------------------------------------------------\u001b[0m",
      "\u001b[0;31mTypeError\u001b[0m                                 Traceback (most recent call last)",
      "\u001b[0;32m<ipython-input-11-b76cf3b6336a>\u001b[0m in \u001b[0;36m<module>\u001b[0;34m()\u001b[0m\n\u001b[0;32m----> 1\u001b[0;31m \u001b[0mcelsius_fahrenheit\u001b[0m\u001b[1;33m(\u001b[0m\u001b[1;33m)\u001b[0m\u001b[1;33m\u001b[0m\u001b[0m\n\u001b[0m",
      "\u001b[0;31mTypeError\u001b[0m: celsius_fahrenheit() missing 1 required positional argument: 'C'"
     ]
    }
   ],
   "source": [
    "celsius_fahrenheit()"
   ]
  },
  {
   "cell_type": "code",
   "execution_count": 16,
   "metadata": {
    "collapsed": true
   },
   "outputs": [],
   "source": [
    "def celsius_fahrenheit(C):\n",
    "    #This function converts Celsius to Fahrenheit\n",
    "    # F = (C*(9./5))+32 = Fahrenheit NOTE: C is room temperature.\n",
    "    fahrenheit = (C*(9./5))+32\n",
    "    print(fahrenheit)\n",
    "    return fahrenheit"
   ]
  },
  {
   "cell_type": "code",
   "execution_count": 17,
   "metadata": {
    "collapsed": false
   },
   "outputs": [
    {
     "name": "stdout",
     "output_type": "stream",
     "text": [
      "1832.0\n"
     ]
    },
    {
     "data": {
      "text/plain": [
       "1832.0"
      ]
     },
     "execution_count": 17,
     "metadata": {},
     "output_type": "execute_result"
    }
   ],
   "source": [
    "celsius_fahrenheit(1000)"
   ]
  },
  {
   "cell_type": "code",
   "execution_count": 18,
   "metadata": {
    "collapsed": true
   },
   "outputs": [],
   "source": [
    "# Fahrenheit to Celsius\n",
    "# PART ONE   C = (F-32)*(5/9)\n",
    "# PART TWO   Allow user to specify input fahrenheit\n",
    "# PART THREE Define a default\n",
    "def fahrenheit_celsius(F):\n",
    "    #This function converts Fahrenheit to Celsius\n",
    "    # celsius = (F-32)*(5./9) = Celsius NOTE: F is user input.\n",
    "    celsius = (F-32)*(5./9)\n",
    "    print(celsius)\n",
    "    return celsius\n",
    "# PART TWO and PART THREE INCOMPLETE"
   ]
  },
  {
   "cell_type": "code",
   "execution_count": 19,
   "metadata": {
    "collapsed": false
   },
   "outputs": [
    {
     "name": "stdout",
     "output_type": "stream",
     "text": [
      "537.7777777777778\n"
     ]
    },
    {
     "data": {
      "text/plain": [
       "537.7777777777778"
      ]
     },
     "execution_count": 19,
     "metadata": {},
     "output_type": "execute_result"
    }
   ],
   "source": [
    "fahrenheit_celsius(1000)\n"
   ]
  },
  {
   "cell_type": "code",
   "execution_count": 38,
   "metadata": {
    "collapsed": true
   },
   "outputs": [],
   "source": [
    "import pandas as pd"
   ]
  },
  {
   "cell_type": "code",
   "execution_count": 33,
   "metadata": {
    "collapsed": false
   },
   "outputs": [],
   "source": [
    "dem_health_data = pd.read_csv(\"Dem_Health_Full.txt\",sep=\"\\t\")"
   ]
  },
  {
   "cell_type": "code",
   "execution_count": 22,
   "metadata": {
    "collapsed": false
   },
   "outputs": [
    {
     "data": {
      "text/html": [
       "<div>\n",
       "<table border=\"1\" class=\"dataframe\">\n",
       "  <thead>\n",
       "    <tr style=\"text-align: right;\">\n",
       "      <th></th>\n",
       "      <th>County</th>\n",
       "      <th>State</th>\n",
       "      <th>Population_Density</th>\n",
       "      <th>Poverty</th>\n",
       "      <th>Infant_Mortality</th>\n",
       "      <th>Suicide</th>\n",
       "      <th>Total_Births</th>\n",
       "      <th>Total_Deaths</th>\n",
       "    </tr>\n",
       "  </thead>\n",
       "  <tbody>\n",
       "    <tr>\n",
       "      <th>0</th>\n",
       "      <td>Autauga</td>\n",
       "      <td>AL</td>\n",
       "      <td>82</td>\n",
       "      <td>10.4</td>\n",
       "      <td>5.9</td>\n",
       "      <td>16.6</td>\n",
       "      <td>3048.0</td>\n",
       "      <td>1867.0</td>\n",
       "    </tr>\n",
       "    <tr>\n",
       "      <th>1</th>\n",
       "      <td>Baldwin</td>\n",
       "      <td>AL</td>\n",
       "      <td>102</td>\n",
       "      <td>10.2</td>\n",
       "      <td>7.1</td>\n",
       "      <td>14.3</td>\n",
       "      <td>5471.0</td>\n",
       "      <td>4388.0</td>\n",
       "    </tr>\n",
       "    <tr>\n",
       "      <th>2</th>\n",
       "      <td>Barbour</td>\n",
       "      <td>AL</td>\n",
       "      <td>32</td>\n",
       "      <td>22.1</td>\n",
       "      <td>7.1</td>\n",
       "      <td>10.3</td>\n",
       "      <td>1835.0</td>\n",
       "      <td>1538.0</td>\n",
       "    </tr>\n",
       "    <tr>\n",
       "      <th>3</th>\n",
       "      <td>Bibb</td>\n",
       "      <td>AL</td>\n",
       "      <td>35</td>\n",
       "      <td>16.8</td>\n",
       "      <td>9.8</td>\n",
       "      <td>14.8</td>\n",
       "      <td>2801.0</td>\n",
       "      <td>2012.0</td>\n",
       "    </tr>\n",
       "    <tr>\n",
       "      <th>4</th>\n",
       "      <td>Blount</td>\n",
       "      <td>AL</td>\n",
       "      <td>86</td>\n",
       "      <td>11.9</td>\n",
       "      <td>9.0</td>\n",
       "      <td>14.4</td>\n",
       "      <td>3318.0</td>\n",
       "      <td>2453.0</td>\n",
       "    </tr>\n",
       "    <tr>\n",
       "      <th>5</th>\n",
       "      <td>Bullock</td>\n",
       "      <td>AL</td>\n",
       "      <td>18</td>\n",
       "      <td>26.2</td>\n",
       "      <td>13.3</td>\n",
       "      <td>-1111.1</td>\n",
       "      <td>1604.0</td>\n",
       "      <td>1381.0</td>\n",
       "    </tr>\n",
       "    <tr>\n",
       "      <th>6</th>\n",
       "      <td>Butler</td>\n",
       "      <td>AL</td>\n",
       "      <td>27</td>\n",
       "      <td>20.0</td>\n",
       "      <td>5.8</td>\n",
       "      <td>11.9</td>\n",
       "      <td>2874.0</td>\n",
       "      <td>2857.0</td>\n",
       "    </tr>\n",
       "    <tr>\n",
       "      <th>7</th>\n",
       "      <td>Calhoun</td>\n",
       "      <td>AL</td>\n",
       "      <td>184</td>\n",
       "      <td>16.4</td>\n",
       "      <td>9.5</td>\n",
       "      <td>13.6</td>\n",
       "      <td>4429.0</td>\n",
       "      <td>3915.0</td>\n",
       "    </tr>\n",
       "    <tr>\n",
       "      <th>8</th>\n",
       "      <td>Chambers</td>\n",
       "      <td>AL</td>\n",
       "      <td>59</td>\n",
       "      <td>16.2</td>\n",
       "      <td>7.5</td>\n",
       "      <td>12.8</td>\n",
       "      <td>2271.0</td>\n",
       "      <td>2424.0</td>\n",
       "    </tr>\n",
       "    <tr>\n",
       "      <th>9</th>\n",
       "      <td>Cherokee</td>\n",
       "      <td>AL</td>\n",
       "      <td>44</td>\n",
       "      <td>15.2</td>\n",
       "      <td>7.4</td>\n",
       "      <td>17.7</td>\n",
       "      <td>2659.0</td>\n",
       "      <td>2609.0</td>\n",
       "    </tr>\n",
       "    <tr>\n",
       "      <th>10</th>\n",
       "      <td>Chilton</td>\n",
       "      <td>AL</td>\n",
       "      <td>60</td>\n",
       "      <td>14.9</td>\n",
       "      <td>10.5</td>\n",
       "      <td>13.3</td>\n",
       "      <td>2671.0</td>\n",
       "      <td>2065.0</td>\n",
       "    </tr>\n",
       "    <tr>\n",
       "      <th>11</th>\n",
       "      <td>Choctaw</td>\n",
       "      <td>AL</td>\n",
       "      <td>16</td>\n",
       "      <td>18.7</td>\n",
       "      <td>10.8</td>\n",
       "      <td>9.4</td>\n",
       "      <td>2152.0</td>\n",
       "      <td>1742.0</td>\n",
       "    </tr>\n",
       "    <tr>\n",
       "      <th>12</th>\n",
       "      <td>Clarke</td>\n",
       "      <td>AL</td>\n",
       "      <td>22</td>\n",
       "      <td>19.2</td>\n",
       "      <td>7.1</td>\n",
       "      <td>8.9</td>\n",
       "      <td>1984.0</td>\n",
       "      <td>1444.0</td>\n",
       "    </tr>\n",
       "    <tr>\n",
       "      <th>13</th>\n",
       "      <td>Clay</td>\n",
       "      <td>AL</td>\n",
       "      <td>23</td>\n",
       "      <td>14.0</td>\n",
       "      <td>10.2</td>\n",
       "      <td>11.2</td>\n",
       "      <td>1748.0</td>\n",
       "      <td>1706.0</td>\n",
       "    </tr>\n",
       "    <tr>\n",
       "      <th>14</th>\n",
       "      <td>Cleburne</td>\n",
       "      <td>AL</td>\n",
       "      <td>26</td>\n",
       "      <td>14.0</td>\n",
       "      <td>7.0</td>\n",
       "      <td>30.1</td>\n",
       "      <td>1706.0</td>\n",
       "      <td>1540.0</td>\n",
       "    </tr>\n",
       "    <tr>\n",
       "      <th>15</th>\n",
       "      <td>Coffee</td>\n",
       "      <td>AL</td>\n",
       "      <td>67</td>\n",
       "      <td>13.7</td>\n",
       "      <td>2.9</td>\n",
       "      <td>13.1</td>\n",
       "      <td>2762.0</td>\n",
       "      <td>2210.0</td>\n",
       "    </tr>\n",
       "    <tr>\n",
       "      <th>16</th>\n",
       "      <td>Colbert</td>\n",
       "      <td>AL</td>\n",
       "      <td>92</td>\n",
       "      <td>14.0</td>\n",
       "      <td>8.2</td>\n",
       "      <td>15.1</td>\n",
       "      <td>3166.0</td>\n",
       "      <td>3087.0</td>\n",
       "    </tr>\n",
       "    <tr>\n",
       "      <th>17</th>\n",
       "      <td>Conecuh</td>\n",
       "      <td>AL</td>\n",
       "      <td>16</td>\n",
       "      <td>22.0</td>\n",
       "      <td>14.4</td>\n",
       "      <td>13.2</td>\n",
       "      <td>1872.0</td>\n",
       "      <td>1832.0</td>\n",
       "    </tr>\n",
       "    <tr>\n",
       "      <th>18</th>\n",
       "      <td>Coosa</td>\n",
       "      <td>AL</td>\n",
       "      <td>17</td>\n",
       "      <td>13.4</td>\n",
       "      <td>13.9</td>\n",
       "      <td>-1111.1</td>\n",
       "      <td>1273.0</td>\n",
       "      <td>1174.0</td>\n",
       "    </tr>\n",
       "    <tr>\n",
       "      <th>19</th>\n",
       "      <td>Covington</td>\n",
       "      <td>AL</td>\n",
       "      <td>36</td>\n",
       "      <td>17.5</td>\n",
       "      <td>6.2</td>\n",
       "      <td>10.7</td>\n",
       "      <td>2247.0</td>\n",
       "      <td>2499.0</td>\n",
       "    </tr>\n",
       "  </tbody>\n",
       "</table>\n",
       "</div>"
      ],
      "text/plain": [
       "       County State  Population_Density  Poverty  Infant_Mortality  Suicide  \\\n",
       "0     Autauga    AL                  82     10.4               5.9     16.6   \n",
       "1     Baldwin    AL                 102     10.2               7.1     14.3   \n",
       "2     Barbour    AL                  32     22.1               7.1     10.3   \n",
       "3        Bibb    AL                  35     16.8               9.8     14.8   \n",
       "4      Blount    AL                  86     11.9               9.0     14.4   \n",
       "5     Bullock    AL                  18     26.2              13.3  -1111.1   \n",
       "6      Butler    AL                  27     20.0               5.8     11.9   \n",
       "7     Calhoun    AL                 184     16.4               9.5     13.6   \n",
       "8    Chambers    AL                  59     16.2               7.5     12.8   \n",
       "9    Cherokee    AL                  44     15.2               7.4     17.7   \n",
       "10    Chilton    AL                  60     14.9              10.5     13.3   \n",
       "11    Choctaw    AL                  16     18.7              10.8      9.4   \n",
       "12     Clarke    AL                  22     19.2               7.1      8.9   \n",
       "13       Clay    AL                  23     14.0              10.2     11.2   \n",
       "14   Cleburne    AL                  26     14.0               7.0     30.1   \n",
       "15     Coffee    AL                  67     13.7               2.9     13.1   \n",
       "16    Colbert    AL                  92     14.0               8.2     15.1   \n",
       "17    Conecuh    AL                  16     22.0              14.4     13.2   \n",
       "18      Coosa    AL                  17     13.4              13.9  -1111.1   \n",
       "19  Covington    AL                  36     17.5               6.2     10.7   \n",
       "\n",
       "    Total_Births  Total_Deaths  \n",
       "0         3048.0        1867.0  \n",
       "1         5471.0        4388.0  \n",
       "2         1835.0        1538.0  \n",
       "3         2801.0        2012.0  \n",
       "4         3318.0        2453.0  \n",
       "5         1604.0        1381.0  \n",
       "6         2874.0        2857.0  \n",
       "7         4429.0        3915.0  \n",
       "8         2271.0        2424.0  \n",
       "9         2659.0        2609.0  \n",
       "10        2671.0        2065.0  \n",
       "11        2152.0        1742.0  \n",
       "12        1984.0        1444.0  \n",
       "13        1748.0        1706.0  \n",
       "14        1706.0        1540.0  \n",
       "15        2762.0        2210.0  \n",
       "16        3166.0        3087.0  \n",
       "17        1872.0        1832.0  \n",
       "18        1273.0        1174.0  \n",
       "19        2247.0        2499.0  "
      ]
     },
     "execution_count": 22,
     "metadata": {},
     "output_type": "execute_result"
    }
   ],
   "source": [
    "dem_health_data.head(20)"
   ]
  },
  {
   "cell_type": "code",
   "execution_count": 40,
   "metadata": {
    "collapsed": false
   },
   "outputs": [],
   "source": [
    "def get_urban(df):\n",
    "    urban=df.loc[df['Population_Density'] >= 1000, :]\n",
    "    # The function urban has brackets that are row,column as [row,column]\n",
    "    # This example is looking at rows with Density >=1000\n",
    "    # The : in 2nd part of [,] allows columns not to be considered\n",
    "    # Outputs as new dataframe (df) \n",
    "    return urban"
   ]
  },
  {
   "cell_type": "code",
   "execution_count": 44,
   "metadata": {
    "collapsed": false
   },
   "outputs": [],
   "source": [
    "urban_counties = get_urban(dem_health_data)"
   ]
  },
  {
   "cell_type": "code",
   "execution_count": 45,
   "metadata": {
    "collapsed": false
   },
   "outputs": [
    {
     "data": {
      "text/html": [
       "<div>\n",
       "<table border=\"1\" class=\"dataframe\">\n",
       "  <thead>\n",
       "    <tr style=\"text-align: right;\">\n",
       "      <th></th>\n",
       "      <th>County</th>\n",
       "      <th>State</th>\n",
       "      <th>Population_Density</th>\n",
       "      <th>Poverty</th>\n",
       "      <th>Infant_Mortality</th>\n",
       "      <th>Suicide</th>\n",
       "      <th>Total_Births</th>\n",
       "      <th>Total_Deaths</th>\n",
       "    </tr>\n",
       "  </thead>\n",
       "  <tbody>\n",
       "    <tr>\n",
       "      <th>184</th>\n",
       "      <td>Alameda</td>\n",
       "      <td>CA</td>\n",
       "      <td>1964</td>\n",
       "      <td>10.7</td>\n",
       "      <td>4.8</td>\n",
       "      <td>7.6</td>\n",
       "      <td>65423.0</td>\n",
       "      <td>29143.0</td>\n",
       "    </tr>\n",
       "    <tr>\n",
       "      <th>190</th>\n",
       "      <td>Contra Costa</td>\n",
       "      <td>CA</td>\n",
       "      <td>1414</td>\n",
       "      <td>7.5</td>\n",
       "      <td>4.0</td>\n",
       "      <td>9.4</td>\n",
       "      <td>39653.0</td>\n",
       "      <td>20836.0</td>\n",
       "    </tr>\n",
       "    <tr>\n",
       "      <th>202</th>\n",
       "      <td>Los Angeles</td>\n",
       "      <td>CA</td>\n",
       "      <td>2447</td>\n",
       "      <td>17.7</td>\n",
       "      <td>5.4</td>\n",
       "      <td>7.9</td>\n",
       "      <td>457033.0</td>\n",
       "      <td>181018.0</td>\n",
       "    </tr>\n",
       "    <tr>\n",
       "      <th>213</th>\n",
       "      <td>Orange</td>\n",
       "      <td>CA</td>\n",
       "      <td>3785</td>\n",
       "      <td>10.6</td>\n",
       "      <td>4.7</td>\n",
       "      <td>7.6</td>\n",
       "      <td>135702.0</td>\n",
       "      <td>51060.0</td>\n",
       "    </tr>\n",
       "    <tr>\n",
       "      <th>217</th>\n",
       "      <td>Sacramento</td>\n",
       "      <td>CA</td>\n",
       "      <td>1412</td>\n",
       "      <td>13.7</td>\n",
       "      <td>5.6</td>\n",
       "      <td>10.9</td>\n",
       "      <td>58592.0</td>\n",
       "      <td>28774.0</td>\n",
       "    </tr>\n",
       "  </tbody>\n",
       "</table>\n",
       "</div>"
      ],
      "text/plain": [
       "           County State  Population_Density  Poverty  Infant_Mortality  \\\n",
       "184       Alameda    CA                1964     10.7               4.8   \n",
       "190  Contra Costa    CA                1414      7.5               4.0   \n",
       "202   Los Angeles    CA                2447     17.7               5.4   \n",
       "213        Orange    CA                3785     10.6               4.7   \n",
       "217    Sacramento    CA                1412     13.7               5.6   \n",
       "\n",
       "     Suicide  Total_Births  Total_Deaths  \n",
       "184      7.6       65423.0       29143.0  \n",
       "190      9.4       39653.0       20836.0  \n",
       "202      7.9      457033.0      181018.0  \n",
       "213      7.6      135702.0       51060.0  \n",
       "217     10.9       58592.0       28774.0  "
      ]
     },
     "execution_count": 45,
     "metadata": {},
     "output_type": "execute_result"
    }
   ],
   "source": [
    "urban_counties.head()"
   ]
  },
  {
   "cell_type": "code",
   "execution_count": 48,
   "metadata": {
    "collapsed": true
   },
   "outputs": [],
   "source": [
    "def split_county_by_pop(df, threshold):\n",
    "    urban = df.loc[df['Population_Density'] >= threshold, :]\n",
    "    rural = df.loc[df['Population_Density'] < threshold, :]\n",
    "    return [urban,rural]"
   ]
  },
  {
   "cell_type": "code",
   "execution_count": 50,
   "metadata": {
    "collapsed": true
   },
   "outputs": [],
   "source": [
    "urban_rural_counties = \\\n",
    "split_county_by_pop(dem_health_data, 500)"
   ]
  },
  {
   "cell_type": "code",
   "execution_count": 60,
   "metadata": {
    "collapsed": false
   },
   "outputs": [
    {
     "data": {
      "text/plain": [
       "(235, 8)"
      ]
     },
     "execution_count": 60,
     "metadata": {},
     "output_type": "execute_result"
    }
   ],
   "source": [
    "# type(urban_rural_counties[0])\n",
    "urban_rural_counties[0].shape"
   ]
  },
  {
   "cell_type": "code",
   "execution_count": null,
   "metadata": {
    "collapsed": true
   },
   "outputs": [],
   "source": []
  },
  {
   "cell_type": "code",
   "execution_count": null,
   "metadata": {
    "collapsed": true
   },
   "outputs": [],
   "source": []
  },
  {
   "cell_type": "code",
   "execution_count": null,
   "metadata": {
    "collapsed": true
   },
   "outputs": [],
   "source": []
  },
  {
   "cell_type": "code",
   "execution_count": null,
   "metadata": {
    "collapsed": true
   },
   "outputs": [],
   "source": []
  }
 ],
 "metadata": {
  "kernelspec": {
   "display_name": "Python 3",
   "language": "python",
   "name": "python3"
  },
  "language_info": {
   "codemirror_mode": {
    "name": "ipython",
    "version": 3
   },
   "file_extension": ".py",
   "mimetype": "text/x-python",
   "name": "python",
   "nbconvert_exporter": "python",
   "pygments_lexer": "ipython3",
   "version": "3.6.0"
  }
 },
 "nbformat": 4,
 "nbformat_minor": 2
}
